{
 "cells": [
  {
   "cell_type": "code",
   "execution_count": 6,
   "metadata": {
    "collapsed": true
   },
   "outputs": [],
   "source": [
    "import pandas as pd"
   ]
  },
  {
   "cell_type": "code",
   "execution_count": 96,
   "metadata": {
    "collapsed": true
   },
   "outputs": [],
   "source": [
    "applications = pd.read_csv('BEAM Decal Application (Responses) - Form Responses 1.csv')    \n",
    "enrollments = pd.read_csv('CHEM ENG 98%2F198 Enrollment  - DeCal.csv')"
   ]
  },
  {
   "cell_type": "code",
   "execution_count": 97,
   "metadata": {
    "collapsed": false
   },
   "outputs": [],
   "source": [
    "a = applications[['What is your email?', 'What is your SID?']]\n",
    "b = enrollments"
   ]
  },
  {
   "cell_type": "code",
   "execution_count": 103,
   "metadata": {
    "collapsed": false
   },
   "outputs": [],
   "source": [
    "emails = []\n",
    "for i, row in a.iterrows():\n",
    "    if row['What is your SID?'] not in b.SID.values:\n",
    "        emails.append(row['What is your email?'])"
   ]
  },
  {
   "cell_type": "code",
   "execution_count": 104,
   "metadata": {
    "collapsed": false
   },
   "outputs": [
    {
     "name": "stdout",
     "output_type": "stream",
     "text": [
      "kelsey_hu@berkeley.edu\n",
      "djylin@berkeley.edu\n",
      "krish.nayar@berkeley.edu\n",
      "allison_y@berkeley.edu\n",
      "tejapamidimukkala@berkeley.edu\n",
      "yhs.allen@berkeley.edu\n",
      "blc@berkeley.edu\n",
      "mhuynh1728@berkeley.edu\n",
      "ucascheng@berkeley.edu\n",
      "klzhang@berkeley.edu\n",
      "claireyi@berkeley.edu\n",
      "eshitasharma@berkeley.edu\n",
      "lilyho@berkeley.edu\n",
      "shivanik@berkeley.edu\n",
      "ppanyam@berkeley.edu\n",
      "darrenkim@berkeley.edu\n",
      "arnav.raha\n",
      "kaushalpartani@berkeley.edu\n",
      "manishkondapolu@berkeley.edu\n",
      "ilwonseo@berkeley.edu\n",
      "yikun.cheng@berkeley.edu\n",
      "sdhiman@berkeley.edu\n",
      "abigail.cheng1@berkeley.edu\n",
      "haomingtang@berkeley.edu\n",
      "shruthi_chock@berkeley.edu\n"
     ]
    }
   ],
   "source": [
    "for email in emails: \n",
    "    print(email)\n"
   ]
  },
  {
   "cell_type": "code",
   "execution_count": 101,
   "metadata": {
    "collapsed": false
   },
   "outputs": [
    {
     "data": {
      "text/plain": [
       "62"
      ]
     },
     "execution_count": 101,
     "metadata": {},
     "output_type": "execute_result"
    }
   ],
   "source": [
    "len(emails)"
   ]
  },
  {
   "cell_type": "code",
   "execution_count": 94,
   "metadata": {
    "collapsed": false
   },
   "outputs": [],
   "source": [
    "x = {} \n",
    "for val in enrollments.SID.values:\n",
    "    if val in x.keys():\n",
    "        x[val] += 1\n",
    "    else:\n",
    "        x[val] = 1"
   ]
  },
  {
   "cell_type": "code",
   "execution_count": 95,
   "metadata": {
    "collapsed": false
   },
   "outputs": [
    {
     "data": {
      "text/plain": [
       "{24428880: 1,\n",
       " 24772128: 1,\n",
       " 25024999: 1,\n",
       " 25112188: 1,\n",
       " 25144303: 1,\n",
       " 25217336: 1,\n",
       " 25284546: 1,\n",
       " 25294334: 1,\n",
       " 25342187: 1,\n",
       " 25579499: 1,\n",
       " 25584534: 1,\n",
       " 25628015: 1,\n",
       " 25651923: 1,\n",
       " 25684275: 1,\n",
       " 26036725: 1,\n",
       " 26050538: 1,\n",
       " 26057396: 1,\n",
       " 26058492: 1,\n",
       " 26073689: 1,\n",
       " 26342312: 1,\n",
       " 26346278: 1,\n",
       " 26388212: 1,\n",
       " 26575928: 1,\n",
       " 26634547: 1,\n",
       " 26643673: 1,\n",
       " 26734368: 1,\n",
       " 26848173: 1,\n",
       " 303191811: 1,\n",
       " 3031784003: 1,\n",
       " 3031801995: 1,\n",
       " 3031803321: 1,\n",
       " 3031804010: 1,\n",
       " 3031810263: 1,\n",
       " 3031811459: 1,\n",
       " 3031817114: 1,\n",
       " 3031818843: 2,\n",
       " 3031818921: 1,\n",
       " 3031838590: 1,\n",
       " 3031842815: 1,\n",
       " 3031857349: 1,\n",
       " 3031860235: 1,\n",
       " 3031863095: 1,\n",
       " 3031872039: 1,\n",
       " 3031955798: 1,\n",
       " 3031957475: 1,\n",
       " 3031960114: 1,\n",
       " 3031960309: 1,\n",
       " 3031990807: 2,\n",
       " 3031994889: 1,\n",
       " 3032236897: 1,\n",
       " 3032252562: 1,\n",
       " 3032288741: 1,\n",
       " 3032361047: 1,\n",
       " 3032654731: 1,\n",
       " 3032677416: 1,\n",
       " 3032706484: 1,\n",
       " 3032723410: 1,\n",
       " 3032736319: 1,\n",
       " 3032736904: 1,\n",
       " 3032740531: 1,\n",
       " 3032750216: 1,\n",
       " 3032751880: 1,\n",
       " 3032838005: 1,\n",
       " 3032936688: 1,\n",
       " 3033238951: 1,\n",
       " 3033404831: 1,\n",
       " 30301794143: 1}"
      ]
     },
     "execution_count": 95,
     "metadata": {},
     "output_type": "execute_result"
    }
   ],
   "source": [
    "x"
   ]
  },
  {
   "cell_type": "code",
   "execution_count": null,
   "metadata": {
    "collapsed": true
   },
   "outputs": [],
   "source": []
  }
 ],
 "metadata": {
  "anaconda-cloud": {},
  "kernelspec": {
   "display_name": "Python [conda root]",
   "language": "python",
   "name": "conda-root-py"
  },
  "language_info": {
   "codemirror_mode": {
    "name": "ipython",
    "version": 3
   },
   "file_extension": ".py",
   "mimetype": "text/x-python",
   "name": "python",
   "nbconvert_exporter": "python",
   "pygments_lexer": "ipython3",
   "version": "3.5.2"
  }
 },
 "nbformat": 4,
 "nbformat_minor": 1
}
