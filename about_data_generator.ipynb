{
 "cells": [
  {
   "cell_type": "markdown",
   "metadata": {},
   "source": [
    "# About Page Data Generator"
   ]
  },
  {
   "cell_type": "code",
   "execution_count": 63,
   "metadata": {
    "collapsed": true
   },
   "outputs": [],
   "source": [
    "import pandas as pd"
   ]
  },
  {
   "cell_type": "code",
   "execution_count": 64,
   "metadata": {
    "collapsed": false
   },
   "outputs": [],
   "source": [
    "df = pd.read_csv('staff.csv', dtype=str)\n",
    "df = df[['Last Name', 'Major', 'Expected Graduation Year', 'Commitees', 'First Name']]"
   ]
  },
  {
   "cell_type": "code",
   "execution_count": 65,
   "metadata": {
    "collapsed": false
   },
   "outputs": [],
   "source": [
    "df['Name'] = df[['First Name', 'Last Name']].apply(lambda x: ' '.join(x), axis=1)\n",
    "df['School Info'] = df[['Major', 'Expected Graduation Year']].apply(lambda x: ' '.join(x), axis=1)\n",
    "df['First Name'] = df['First Name'].map(lambda x: x.lower())\n",
    "df = df[['Name', 'School Info', 'Commitees', 'First Name']]"
   ]
  },
  {
   "cell_type": "code",
   "execution_count": 66,
   "metadata": {
    "collapsed": false
   },
   "outputs": [
    {
     "data": {
      "text/plain": [
       "array([['Alexander Orimoloye', 'BioE 2019', 'Outreach, Site Leading',\n",
       "        'alexander'],\n",
       "       ['Alison Mathews', 'CivE 2019', 'Logistics, Site Leading', 'alison'],\n",
       "       ['Annie Ro', 'EECS 2020', 'External Affairs, Outreach', 'annie'],\n",
       "       ['Ashlee Heuston', 'EECS 2019', 'Logistics, Site Leading', 'ashlee'],\n",
       "       ['Ashley Chen', 'Physics & Art History 2018',\n",
       "        'Outreach, Site Leading', 'ashley'],\n",
       "       ['Briana Ong', 'IB  2020', 'Logistics, Site Leading', 'briana'],\n",
       "       ['Caroline Ba', 'IB & Psychology 2018',\n",
       "        'Outreach, External Affairs', 'caroline'],\n",
       "       ['Casey  Zhang', 'Math & CS 2018', 'Logistics, Site leading',\n",
       "        'casey '],\n",
       "       ['Claudia Lambert', 'Chemical Biology  2019',\n",
       "        'Mentor Dev, Site Leading', 'claudia'],\n",
       "       ['Cynthia Lee',\n",
       "        'Environmental Sciences, Society & Environment 2018', 'President',\n",
       "        'cynthia'],\n",
       "       ['Daniela Walls', 'MSE 2019', 'Curriculum, Logistics', 'daniela'],\n",
       "       ['Deepika  Sarode', 'MCB 2018', 'Curriculum, Logistics', 'deepika '],\n",
       "       ['Henry Dong', 'CogSci & MCB 2019', 'Mentor Dev, External Affairs',\n",
       "        'henry'],\n",
       "       ['Jeb Boodry', 'ChemE 2020', 'Curriculum', 'jeb'],\n",
       "       ['Jocelyn Liu', 'MCB 2020', 'Logistics, Site Leading', 'jocelyn'],\n",
       "       ['Kevin Arifin', 'EECS 2018', 'President', 'kevin'],\n",
       "       ['Mai Nojima', 'MCB & Public Health  2019', 'Logistics, Outreach ',\n",
       "        'mai'],\n",
       "       ['Matthew Sit', 'BioE & EECS 2019', 'Curriculum', 'matthew'],\n",
       "       ['Miranda Jen', 'Energy Engineering 2019',\n",
       "        'Mentor Dev, Site Leading', 'miranda'],\n",
       "       ['Nandika Donthi', 'CS 2019', 'External Affairs', 'nandika'],\n",
       "       ['Nicole Rasquinha', 'EECS 2018', 'Site Leading', 'nicole'],\n",
       "       ['Patrick Zhang', 'CS 2018', 'Outreach', 'patrick'],\n",
       "       ['Patrick Oare', 'Physics & Math 2019', 'Curriculum, Site Leading',\n",
       "        'patrick'],\n",
       "       ['Pavan Muddukrishna', 'Astrophysics & Applied Math 2018',\n",
       "        'Mentor Dev', 'pavan'],\n",
       "       ['Rachel Jang', 'ChemE 2019', 'Curriculum, Site Leading', 'rachel'],\n",
       "       ['Radu Firtat', 'MCB 2020', 'Outreach', 'radu'],\n",
       "       ['Rohan  Chakraborty', 'ChemE 2019', 'Site Leading', 'rohan '],\n",
       "       ['Ruby Chien', 'MCB 2018', 'Logistics, Outreach', 'ruby'],\n",
       "       ['Soumita Bose', 'CogSci & MCB 2018', 'Curriculum, Mentor Dev',\n",
       "        'soumita'],\n",
       "       ['Soyun  Park', 'MCB 2018', 'Menter Dev, Site Leading ', 'soyun '],\n",
       "       ['Stephanie Liu', 'MSE 2018', 'Mentor Dev', 'stephanie'],\n",
       "       ['Stephanie Huang', 'MCB 2020', 'Curriculum, Site Leading',\n",
       "        'stephanie'],\n",
       "       ['Tate Tong', 'ChemE 2019', 'External Affairs', 'tate'],\n",
       "       ['Varun Chhabra', 'MechE 2018', 'Curriculum', 'varun'],\n",
       "       ['Vicky Zhang', 'EECS 2018', 'Mentor Dev, Site Leading', 'vicky'],\n",
       "       ['Wayne Li', 'CS 2018', 'Outreach', 'wayne']], dtype=object)"
      ]
     },
     "execution_count": 66,
     "metadata": {},
     "output_type": "execute_result"
    }
   ],
   "source": [
    "df.as_matrix()"
   ]
  },
  {
   "cell_type": "code",
   "execution_count": null,
   "metadata": {
    "collapsed": true
   },
   "outputs": [],
   "source": []
  },
  {
   "cell_type": "code",
   "execution_count": null,
   "metadata": {
    "collapsed": true
   },
   "outputs": [],
   "source": []
  }
 ],
 "metadata": {
  "anaconda-cloud": {},
  "kernelspec": {
   "display_name": "Python [conda root]",
   "language": "python",
   "name": "conda-root-py"
  },
  "language_info": {
   "codemirror_mode": {
    "name": "ipython",
    "version": 3
   },
   "file_extension": ".py",
   "mimetype": "text/x-python",
   "name": "python",
   "nbconvert_exporter": "python",
   "pygments_lexer": "ipython3",
   "version": "3.5.2"
  }
 },
 "nbformat": 4,
 "nbformat_minor": 1
}
