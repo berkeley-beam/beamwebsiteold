{
 "cells": [
  {
   "cell_type": "markdown",
   "metadata": {},
   "source": [
    "# About Page Data Generator"
   ]
  },
  {
   "cell_type": "code",
   "execution_count": 11,
   "metadata": {
    "collapsed": true
   },
   "outputs": [],
   "source": [
    "import pandas as pd"
   ]
  },
  {
   "cell_type": "code",
   "execution_count": 23,
   "metadata": {
    "collapsed": false
   },
   "outputs": [],
   "source": [
    "df = pd.read_csv('staff.csv')\n",
    "df = df[['Last Name', 'Major', 'Expected Graduation Year', 'Commitees', 'First Name', ]]"
   ]
  },
  {
   "cell_type": "code",
   "execution_count": 28,
   "metadata": {
    "collapsed": false
   },
   "outputs": [],
   "source": [
    "df['Name'] = df[['First Name', 'Last Name']].apply(lambda x: ' '.join(x), axis=1)"
   ]
  },
  {
   "cell_type": "code",
   "execution_count": 31,
   "metadata": {
    "collapsed": false
   },
   "outputs": [
    {
     "data": {
      "text/plain": [
       "array([['Alexander', 'Orimoloye', 'Bioengineering', 2019.0,\n",
       "        'Outreach, Site Leading', 'Alexander Orimoloye'],\n",
       "       ['Alison', 'Mathews', 'Civil Engineering (Environmental)', 2019.0,\n",
       "        'Logistics, Site Leading', 'Alison Mathews'],\n",
       "       ['Annie', 'Ro', 'EECS', 2020.0, 'External Affairs, Outreach',\n",
       "        'Annie Ro'],\n",
       "       ['Ashlee', 'Heuston', 'EECS', 2019.0, 'Logistics, Site Leading',\n",
       "        'Ashlee Heuston'],\n",
       "       ['Ashley', 'Chen', 'Physics, Art History', 2018.0,\n",
       "        'Outreach, Site Leading', 'Ashley Chen'],\n",
       "       ['Briana', 'Ong', 'IB ', 2020.0, 'Logistics, Site Leading',\n",
       "        'Briana Ong'],\n",
       "       ['Caroline', 'Ba', 'IB & Psychology', 2018.0,\n",
       "        'Outreach, External Affairs', 'Caroline Ba'],\n",
       "       ['Casey ', 'Zhang', 'math, cs', 2018.0, 'Logistics, Site leading',\n",
       "        'Casey  Zhang'],\n",
       "       ['Claudia', 'Lambert', 'Chemical Biology ', 2019.0,\n",
       "        'Mentor Dev, Site Leading', 'Claudia Lambert'],\n",
       "       ['Cynthia', 'Lee',\n",
       "        'Environmental Sciences, Society and Environment', 2018.0,\n",
       "        'President', 'Cynthia Lee'],\n",
       "       ['Daniela', 'Walls', 'MSE', 2019.0, 'Curriculum, Logistics',\n",
       "        'Daniela Walls'],\n",
       "       ['Deepika ', 'Sarode', 'MCB', 2018.0, 'Curriculum, Logistics',\n",
       "        'Deepika  Sarode'],\n",
       "       ['Henry', 'Dong', 'CogSci/MCB', 2019.0,\n",
       "        'Mentor Dev, External Affairs', 'Henry Dong'],\n",
       "       ['Jeb', 'Boodry', 'Chem Eng', 2020.0, 'Curriculum', 'Jeb Boodry'],\n",
       "       ['Jocelyn', 'Liu', 'MCB', 2020.0, 'Logistics, Site Leading',\n",
       "        'Jocelyn Liu'],\n",
       "       ['Kevin', 'Arifin', 'EECS', 2018.0, 'President', 'Kevin Arifin'],\n",
       "       ['Mai', 'Nojima', 'MCB/ Public Health ', 2019.0,\n",
       "        'Logistics, Outreach ', 'Mai Nojima'],\n",
       "       ['Matthew', 'Sit', 'Bioengineering and EECS', 2019.0, 'Curriculum',\n",
       "        'Matthew Sit'],\n",
       "       ['Miranda', 'Jen', 'Energy Engineering', 2019.0,\n",
       "        'Mentor Dev, Site Leading', 'Miranda Jen'],\n",
       "       ['Nandika', 'Donthi', 'CS', 2019.0, 'External Affairs',\n",
       "        'Nandika Donthi'],\n",
       "       ['Nicole', 'Rasquinha', 'EECS', 2018.0, 'Site Leading',\n",
       "        'Nicole Rasquinha'],\n",
       "       ['Nigel ', 'Faustino', nan, nan, 'Curriculum, Mentor Development',\n",
       "        'Nigel  Faustino'],\n",
       "       ['Patrick', 'Zhang', 'CS', 2018.0, 'Outreach', 'Patrick Zhang'],\n",
       "       ['Patrick', 'Oare', 'Physics/Math', 2019.0,\n",
       "        'Curriculum, Site Leading', 'Patrick Oare'],\n",
       "       ['Pavan', 'Muddukrishna', 'Astrophysics and Applied Mathematics',\n",
       "        2018.0, 'Mentor Development', 'Pavan Muddukrishna'],\n",
       "       ['Rachel', 'Jang', 'Chemical Engineering', 2019.0,\n",
       "        'Curriculum, Site Leading', 'Rachel Jang'],\n",
       "       ['Radu', 'Firtat', 'MCB', 2020.0, 'Outreach', 'Radu Firtat'],\n",
       "       ['Rohan ', 'Chakraborty', 'Chemical Engineering', 2019.0,\n",
       "        'Site Leading', 'Rohan  Chakraborty'],\n",
       "       ['Ruby', 'Chien', 'MCB', 2018.0, 'Logistics, Outreach', 'Ruby Chien'],\n",
       "       ['Soumita', 'Bose', 'Cognitive Science + MCB (Neurobiology)',\n",
       "        2018.0, 'Cirriculum, Mentor Development', 'Soumita Bose'],\n",
       "       ['Soyun ', 'Park', 'MCB', 2018.0, 'Menter Dev, Site Leading ',\n",
       "        'Soyun  Park'],\n",
       "       ['Stephanie', 'Liu', 'MSE', 2018.0, 'Mentor Development',\n",
       "        'Stephanie Liu'],\n",
       "       ['Stephanie', 'Huang', 'MCB', 2020.0, 'Curriculum, Site Leading',\n",
       "        'Stephanie Huang'],\n",
       "       ['Tate', 'Tong', 'Chemical Engineering', 2019.0, 'External Affairs',\n",
       "        'Tate Tong'],\n",
       "       ['Varun', 'Chhabra', 'Mechanical Engineering', 2018.0, 'Curriculum',\n",
       "        'Varun Chhabra'],\n",
       "       ['Vicky', 'Zhang', 'EECS', 2018.0, 'Mentor Development',\n",
       "        'Vicky Zhang'],\n",
       "       ['Wayne', 'Li', 'CS', 2018.0, 'Outreach', 'Wayne Li']], dtype=object)"
      ]
     },
     "execution_count": 31,
     "metadata": {},
     "output_type": "execute_result"
    }
   ],
   "source": [
    "df.as_matrix()"
   ]
  },
  {
   "cell_type": "code",
   "execution_count": null,
   "metadata": {
    "collapsed": true
   },
   "outputs": [],
   "source": []
  }
 ],
 "metadata": {
  "anaconda-cloud": {},
  "kernelspec": {
   "display_name": "Python [conda root]",
   "language": "python",
   "name": "conda-root-py"
  },
  "language_info": {
   "codemirror_mode": {
    "name": "ipython",
    "version": 3
   },
   "file_extension": ".py",
   "mimetype": "text/x-python",
   "name": "python",
   "nbconvert_exporter": "python",
   "pygments_lexer": "ipython3",
   "version": "3.5.2"
  }
 },
 "nbformat": 4,
 "nbformat_minor": 1
}
